{
  "nbformat": 4,
  "nbformat_minor": 0,
  "metadata": {
    "colab": {
      "provenance": []
    },
    "kernelspec": {
      "name": "python3",
      "display_name": "Python 3"
    },
    "language_info": {
      "name": "python"
    }
  },
  "cells": [
    {
      "cell_type": "code",
      "execution_count": 1,
      "metadata": {
        "colab": {
          "base_uri": "https://localhost:8080/"
        },
        "id": "xiyPI9gdswc3",
        "outputId": "a1b0e5ab-0b32-490d-e19f-2f38158e3e3a"
      },
      "outputs": [
        {
          "output_type": "stream",
          "name": "stdout",
          "text": [
            "Mounted at /content/drive\n"
          ]
        }
      ],
      "source": [
        "from google.colab import drive\n",
        "drive.mount(\"/content/drive\")\n"
      ]
    },
    {
      "cell_type": "markdown",
      "source": [
        "## Basics"
      ],
      "metadata": {
        "id": "ml4RcbwR9q8d"
      }
    },
    {
      "cell_type": "code",
      "source": [
        "from tensorflow.keras.preprocessing.text import Tokenizer"
      ],
      "metadata": {
        "id": "taiGHKFktGww"
      },
      "execution_count": 2,
      "outputs": []
    },
    {
      "cell_type": "code",
      "source": [
        "sentences=[\"I love my dog\",\"I am indian\",\"Hot dogs are hot!\",\"Maybe tomorrow i will see\"]"
      ],
      "metadata": {
        "id": "N9Dz_nzitO3D"
      },
      "execution_count": 3,
      "outputs": []
    },
    {
      "cell_type": "code",
      "source": [
        "tokenizer = Tokenizer(num_words=100,oov_token=\"<OOV>\")\n",
        "tokenizer.fit_on_texts(sentences)\n",
        "# tokenizer.fit_on_sequences(sentences)\n",
        "word_index=tokenizer.word_index"
      ],
      "metadata": {
        "id": "ixEHvV4UtQf6"
      },
      "execution_count": 4,
      "outputs": []
    },
    {
      "cell_type": "code",
      "source": [
        "sequences= tokenizer.texts_to_sequences(sentences)\n",
        "# sequences= tokenizer.sequences_to_matrix(sentences)"
      ],
      "metadata": {
        "id": "itdbYHIutguX"
      },
      "execution_count": 5,
      "outputs": []
    },
    {
      "cell_type": "code",
      "source": [
        "print(word_index)"
      ],
      "metadata": {
        "colab": {
          "base_uri": "https://localhost:8080/"
        },
        "id": "xmK6x-q8uJmq",
        "outputId": "0affa2e9-e928-4f14-8665-336f558934e7"
      },
      "execution_count": 6,
      "outputs": [
        {
          "output_type": "stream",
          "name": "stdout",
          "text": [
            "{'<OOV>': 1, 'i': 2, 'hot': 3, 'love': 4, 'my': 5, 'dog': 6, 'am': 7, 'indian': 8, 'dogs': 9, 'are': 10, 'maybe': 11, 'tomorrow': 12, 'will': 13, 'see': 14}\n"
          ]
        }
      ]
    },
    {
      "cell_type": "code",
      "source": [
        "print(sequences)"
      ],
      "metadata": {
        "colab": {
          "base_uri": "https://localhost:8080/"
        },
        "id": "0i4qXFjZuK1n",
        "outputId": "666e4564-9989-4c60-9ca8-ef972d656960"
      },
      "execution_count": 7,
      "outputs": [
        {
          "output_type": "stream",
          "name": "stdout",
          "text": [
            "[[2, 4, 5, 6], [2, 7, 8], [3, 9, 10, 3], [11, 12, 2, 13, 14]]\n"
          ]
        }
      ]
    },
    {
      "cell_type": "code",
      "source": [
        "test_data=[\"I hate penguins\", \"Manatee is big\",\"Sea life is myterious\",\"dogs are cool\"]\n",
        "test_seq= tokenizer.texts_to_sequences(test_data)\n"
      ],
      "metadata": {
        "id": "t47xGUbfuMr3"
      },
      "execution_count": 8,
      "outputs": []
    },
    {
      "cell_type": "code",
      "source": [
        "print(test_seq)"
      ],
      "metadata": {
        "colab": {
          "base_uri": "https://localhost:8080/"
        },
        "id": "OdR3PDPSzUiy",
        "outputId": "f9b6e0b2-e768-4638-d25e-6a18a17e7807"
      },
      "execution_count": 9,
      "outputs": [
        {
          "output_type": "stream",
          "name": "stdout",
          "text": [
            "[[2, 1, 1], [1, 1, 1], [1, 1, 1, 1], [9, 10, 1]]\n"
          ]
        }
      ]
    },
    {
      "cell_type": "code",
      "source": [
        "from tensorflow.keras.preprocessing.sequence import pad_sequences"
      ],
      "metadata": {
        "id": "r-iZC1n1zVmx"
      },
      "execution_count": 10,
      "outputs": []
    },
    {
      "cell_type": "code",
      "source": [
        "padded=pad_sequences(sequences,maxlen=10,truncating=\"pre\")"
      ],
      "metadata": {
        "id": "hDYOdXlclqZo"
      },
      "execution_count": 11,
      "outputs": []
    },
    {
      "cell_type": "code",
      "source": [
        "padded"
      ],
      "metadata": {
        "colab": {
          "base_uri": "https://localhost:8080/"
        },
        "id": "Ic6risFZl-g5",
        "outputId": "24669449-fe6e-463d-fa2a-f2fb893c9c79"
      },
      "execution_count": 12,
      "outputs": [
        {
          "output_type": "execute_result",
          "data": {
            "text/plain": [
              "array([[ 0,  0,  0,  0,  0,  0,  2,  4,  5,  6],\n",
              "       [ 0,  0,  0,  0,  0,  0,  0,  2,  7,  8],\n",
              "       [ 0,  0,  0,  0,  0,  0,  3,  9, 10,  3],\n",
              "       [ 0,  0,  0,  0,  0, 11, 12,  2, 13, 14]], dtype=int32)"
            ]
          },
          "metadata": {},
          "execution_count": 12
        }
      ]
    },
    {
      "cell_type": "markdown",
      "source": [
        "## Training"
      ],
      "metadata": {
        "id": "yRrt7FXxmiT8"
      }
    },
    {
      "cell_type": "code",
      "source": [
        "vocab_size = 10000\n",
        "embedding_dim = 16\n",
        "max_length = 100\n",
        "trunc_type='post'\n",
        "padding_type='post'\n",
        "oov_tok = \"<OOV>\"\n",
        "training_size = 20000"
      ],
      "metadata": {
        "id": "JQmDiW1u6g_6"
      },
      "execution_count": 206,
      "outputs": []
    },
    {
      "cell_type": "code",
      "source": [
        "import json\n",
        "\n",
        "with open(\"/content/drive/MyDrive/Data/Sarcasm_Headlines_Dataset_v2.json\",'r') as f:\n",
        "  datastore=json.load(f)\n",
        "\n",
        "sentences=[]\n",
        "# url=[]\n",
        "labels=[]\n",
        "for item in datastore:\n",
        "  sentences.append(item['headline'])\n",
        "  labels.append(item['is_sarcastic'])"
      ],
      "metadata": {
        "id": "f29fvqwFmAoR"
      },
      "execution_count": 207,
      "outputs": []
    },
    {
      "cell_type": "code",
      "source": [
        "training_sentences = sentences[0:training_size]\n",
        "testing_sentences = sentences[training_size:]\n",
        "\n",
        "training_labels = labels[0:training_size]\n",
        "testing_labels = labels[training_size:]"
      ],
      "metadata": {
        "id": "Y9Sg3kkmnvgr"
      },
      "execution_count": 208,
      "outputs": []
    },
    {
      "cell_type": "code",
      "source": [
        "tokenizer = Tokenizer(num_words=vocab_size, oov_token=oov_tok)"
      ],
      "metadata": {
        "id": "MMByjwx47iAN"
      },
      "execution_count": 209,
      "outputs": []
    },
    {
      "cell_type": "code",
      "source": [
        "tokenizer.fit_on_texts(training_sentences)\n",
        "training_index = tokenizer.word_index\n",
        "\n",
        "training_sequence = tokenizer.texts_to_sequences(training_sentences)\n",
        "training_padded = pad_sequences(training_sequence,maxlen=max_length,padding=padding_type,truncating=trunc_type)"
      ],
      "metadata": {
        "id": "OSrMyGfqrtD4"
      },
      "execution_count": 210,
      "outputs": []
    },
    {
      "cell_type": "code",
      "source": [
        "testing_sequence = tokenizer.texts_to_sequences(testing_sentences)\n",
        "testing_padded = pad_sequences(testing_sequence,maxlen=max_length,padding=padding_type,truncating=trunc_type)"
      ],
      "metadata": {
        "id": "tO3xCW2KbUkJ"
      },
      "execution_count": 211,
      "outputs": []
    },
    {
      "cell_type": "code",
      "source": [
        "import numpy as np\n",
        "training_padded = np.array(training_padded)\n",
        "training_labels = np.array(training_labels)\n",
        "testing_padded = np.array(testing_padded)\n",
        "testing_labels = np.array(testing_labels)"
      ],
      "metadata": {
        "id": "w0KlDVns6r6B"
      },
      "execution_count": 212,
      "outputs": []
    },
    {
      "cell_type": "code",
      "source": [
        "import tensorflow as tf"
      ],
      "metadata": {
        "id": "oAxr8UwnhxBj"
      },
      "execution_count": 213,
      "outputs": []
    },
    {
      "cell_type": "code",
      "source": [
        "model = tf.keras.Sequential([\n",
        "    tf.keras.layers.Embedding(vocab_size, embedding_dim, input_length=max_length),\n",
        "    tf.keras.layers.GlobalAveragePooling1D(),\n",
        "    tf.keras.layers.Dense(24, activation='relu'),\n",
        "    tf.keras.layers.Dense(1, activation='sigmoid')\n",
        "])\n",
        "model.compile(loss='binary_crossentropy',optimizer='adam',metrics=['accuracy'])\n",
        "model.summary()"
      ],
      "metadata": {
        "id": "Ki0TUjQ5hrkW",
        "colab": {
          "base_uri": "https://localhost:8080/"
        },
        "outputId": "67273788-79cf-4751-b4bf-fa747667f4a6"
      },
      "execution_count": 214,
      "outputs": [
        {
          "output_type": "stream",
          "name": "stdout",
          "text": [
            "Model: \"sequential_16\"\n",
            "_________________________________________________________________\n",
            " Layer (type)                Output Shape              Param #   \n",
            "=================================================================\n",
            " embedding_16 (Embedding)    (None, 100, 16)           160000    \n",
            "                                                                 \n",
            " global_average_pooling1d_1  (None, 16)                0         \n",
            " 6 (GlobalAveragePooling1D)                                      \n",
            "                                                                 \n",
            " dense_32 (Dense)            (None, 24)                408       \n",
            "                                                                 \n",
            " dense_33 (Dense)            (None, 1)                 25        \n",
            "                                                                 \n",
            "=================================================================\n",
            "Total params: 160433 (626.69 KB)\n",
            "Trainable params: 160433 (626.69 KB)\n",
            "Non-trainable params: 0 (0.00 Byte)\n",
            "_________________________________________________________________\n"
          ]
        }
      ]
    },
    {
      "cell_type": "code",
      "source": [
        "num_epochs = 30\n",
        "history = model.fit(training_padded, training_labels, epochs=num_epochs, validation_data=(testing_padded, testing_labels), verbose=2)"
      ],
      "metadata": {
        "colab": {
          "base_uri": "https://localhost:8080/"
        },
        "id": "e0_erDsL7Kcy",
        "outputId": "be4965d0-ed99-415a-f7bd-0371104e6ba6"
      },
      "execution_count": 215,
      "outputs": [
        {
          "output_type": "stream",
          "name": "stdout",
          "text": [
            "Epoch 1/30\n",
            "625/625 - 4s - loss: 0.6544 - accuracy: 0.6309 - val_loss: 0.5290 - val_accuracy: 0.8122 - 4s/epoch - 7ms/step\n",
            "Epoch 2/30\n",
            "625/625 - 3s - loss: 0.4116 - accuracy: 0.8352 - val_loss: 0.3683 - val_accuracy: 0.8436 - 3s/epoch - 5ms/step\n",
            "Epoch 3/30\n",
            "625/625 - 2s - loss: 0.3068 - accuracy: 0.8786 - val_loss: 0.3380 - val_accuracy: 0.8543 - 2s/epoch - 4ms/step\n",
            "Epoch 4/30\n",
            "625/625 - 2s - loss: 0.2575 - accuracy: 0.8982 - val_loss: 0.3385 - val_accuracy: 0.8486 - 2s/epoch - 4ms/step\n",
            "Epoch 5/30\n",
            "625/625 - 2s - loss: 0.2228 - accuracy: 0.9141 - val_loss: 0.3376 - val_accuracy: 0.8502 - 2s/epoch - 4ms/step\n",
            "Epoch 6/30\n",
            "625/625 - 3s - loss: 0.1952 - accuracy: 0.9264 - val_loss: 0.3436 - val_accuracy: 0.8545 - 3s/epoch - 4ms/step\n",
            "Epoch 7/30\n",
            "625/625 - 4s - loss: 0.1753 - accuracy: 0.9350 - val_loss: 0.3580 - val_accuracy: 0.8506 - 4s/epoch - 6ms/step\n",
            "Epoch 8/30\n",
            "625/625 - 2s - loss: 0.1567 - accuracy: 0.9426 - val_loss: 0.3717 - val_accuracy: 0.8477 - 2s/epoch - 3ms/step\n",
            "Epoch 9/30\n",
            "625/625 - 3s - loss: 0.1412 - accuracy: 0.9491 - val_loss: 0.4120 - val_accuracy: 0.8352 - 3s/epoch - 4ms/step\n",
            "Epoch 10/30\n",
            "625/625 - 2s - loss: 0.1288 - accuracy: 0.9550 - val_loss: 0.4097 - val_accuracy: 0.8424 - 2s/epoch - 3ms/step\n",
            "Epoch 11/30\n",
            "625/625 - 2s - loss: 0.1147 - accuracy: 0.9597 - val_loss: 0.4323 - val_accuracy: 0.8398 - 2s/epoch - 4ms/step\n",
            "Epoch 12/30\n",
            "625/625 - 4s - loss: 0.1064 - accuracy: 0.9624 - val_loss: 0.4849 - val_accuracy: 0.8320 - 4s/epoch - 6ms/step\n",
            "Epoch 13/30\n",
            "625/625 - 2s - loss: 0.0990 - accuracy: 0.9674 - val_loss: 0.5013 - val_accuracy: 0.8305 - 2s/epoch - 4ms/step\n",
            "Epoch 14/30\n",
            "625/625 - 3s - loss: 0.0902 - accuracy: 0.9701 - val_loss: 0.5229 - val_accuracy: 0.8300 - 3s/epoch - 4ms/step\n",
            "Epoch 15/30\n",
            "625/625 - 3s - loss: 0.0827 - accuracy: 0.9733 - val_loss: 0.5475 - val_accuracy: 0.8289 - 3s/epoch - 4ms/step\n",
            "Epoch 16/30\n",
            "625/625 - 4s - loss: 0.0742 - accuracy: 0.9758 - val_loss: 0.5820 - val_accuracy: 0.8269 - 4s/epoch - 6ms/step\n",
            "Epoch 17/30\n",
            "625/625 - 3s - loss: 0.0694 - accuracy: 0.9780 - val_loss: 0.6272 - val_accuracy: 0.8247 - 3s/epoch - 5ms/step\n",
            "Epoch 18/30\n",
            "625/625 - 3s - loss: 0.0632 - accuracy: 0.9799 - val_loss: 0.6502 - val_accuracy: 0.8224 - 3s/epoch - 4ms/step\n",
            "Epoch 19/30\n",
            "625/625 - 5s - loss: 0.0613 - accuracy: 0.9808 - val_loss: 0.7023 - val_accuracy: 0.8205 - 5s/epoch - 8ms/step\n",
            "Epoch 20/30\n",
            "625/625 - 4s - loss: 0.0528 - accuracy: 0.9841 - val_loss: 0.7258 - val_accuracy: 0.8198 - 4s/epoch - 6ms/step\n",
            "Epoch 21/30\n",
            "625/625 - 5s - loss: 0.0509 - accuracy: 0.9843 - val_loss: 0.8191 - val_accuracy: 0.8131 - 5s/epoch - 8ms/step\n",
            "Epoch 22/30\n",
            "625/625 - 3s - loss: 0.0457 - accuracy: 0.9861 - val_loss: 0.8006 - val_accuracy: 0.8180 - 3s/epoch - 4ms/step\n",
            "Epoch 23/30\n",
            "625/625 - 3s - loss: 0.0419 - accuracy: 0.9880 - val_loss: 0.8420 - val_accuracy: 0.8129 - 3s/epoch - 4ms/step\n",
            "Epoch 24/30\n",
            "625/625 - 2s - loss: 0.0397 - accuracy: 0.9887 - val_loss: 0.8869 - val_accuracy: 0.8138 - 2s/epoch - 4ms/step\n",
            "Epoch 25/30\n",
            "625/625 - 3s - loss: 0.0372 - accuracy: 0.9900 - val_loss: 0.9183 - val_accuracy: 0.8139 - 3s/epoch - 5ms/step\n",
            "Epoch 26/30\n",
            "625/625 - 3s - loss: 0.0347 - accuracy: 0.9901 - val_loss: 0.9728 - val_accuracy: 0.8104 - 3s/epoch - 5ms/step\n",
            "Epoch 27/30\n",
            "625/625 - 2s - loss: 0.0327 - accuracy: 0.9906 - val_loss: 1.0068 - val_accuracy: 0.8097 - 2s/epoch - 4ms/step\n",
            "Epoch 28/30\n",
            "625/625 - 2s - loss: 0.0286 - accuracy: 0.9919 - val_loss: 1.0465 - val_accuracy: 0.8087 - 2s/epoch - 4ms/step\n",
            "Epoch 29/30\n",
            "625/625 - 2s - loss: 0.0254 - accuracy: 0.9936 - val_loss: 1.1026 - val_accuracy: 0.8016 - 2s/epoch - 4ms/step\n",
            "Epoch 30/30\n",
            "625/625 - 3s - loss: 0.0241 - accuracy: 0.9936 - val_loss: 1.1356 - val_accuracy: 0.8044 - 3s/epoch - 4ms/step\n"
          ]
        }
      ]
    },
    {
      "cell_type": "code",
      "source": [
        "import matplotlib.pyplot as plt\n",
        "\n",
        "\n",
        "def plot_graphs(history, string):\n",
        "  plt.plot(history.history[string])\n",
        "  plt.plot(history.history['val_'+string])\n",
        "  plt.xlabel(\"Epochs\")\n",
        "  plt.ylabel(string)\n",
        "  plt.legend([string, 'val_'+string])\n",
        "  plt.show()\n",
        "\n",
        "plot_graphs(history, \"accuracy\")\n",
        "plot_graphs(history, \"loss\")"
      ],
      "metadata": {
        "colab": {
          "base_uri": "https://localhost:8080/",
          "height": 881
        },
        "id": "uwuK-2I26ziK",
        "outputId": "61b77039-6072-4855-ef4b-f5ac2caa3ddd"
      },
      "execution_count": 216,
      "outputs": [
        {
          "output_type": "display_data",
          "data": {
            "text/plain": [
              "<Figure size 640x480 with 1 Axes>"
            ],
            "image/png": "[encoded data removed]"
          },
          "metadata": {}
        },
        {
          "output_type": "display_data",
          "data": {
            "text/plain": [
              "<Figure size 640x480 with 1 Axes>"
            ],
            "image/png": "[encoded data removed]"
          },
          "metadata": {}
        }
      ]
    },
    {
      "cell_type": "markdown",
      "source": [
        "Misc"
      ],
      "metadata": {
        "id": "ACAuXDhE-Xn4"
      }
    },
    {
      "cell_type": "code",
      "source": [
        "reverse_word_index = dict([(value, key) for (key, value) in word_index.items()])\n",
        "\n",
        "def decode_sentence(text):\n",
        "    return ' '.join([reverse_word_index.get(i, '?') for i in text])\n",
        "\n",
        "print(decode_sentence(training_padded[0]))\n",
        "print(training_sentences[2])\n",
        "print(labels[2])"
      ],
      "metadata": {
        "colab": {
          "base_uri": "https://localhost:8080/"
        },
        "id": "skgMh1h396uT",
        "outputId": "d9d6b19c-07e0-4aa5-cb59-581d5f4d3047"
      },
      "execution_count": 222,
      "outputs": [
        {
          "output_type": "stream",
          "name": "stdout",
          "text": [
            "<OOV> run kentucky wendy's written of travel demand ? ? ? ? ? ? ? ? ? ? ? ? ? ? ? ? ? ? ? ? ? ? ? ? ? ? ? ? ? ? ? ? ? ? ? ? ? ? ? ? ? ? ? ? ? ? ? ? ? ? ? ? ? ? ? ? ? ? ? ? ? ? ? ? ? ? ? ? ? ? ? ? ? ? ? ? ? ? ? ? ? ? ? ? ? ? ? ? ? ? ? ?\n",
            "eat your veggies: 9 deliciously different recipes\n",
            "0\n"
          ]
        }
      ]
    },
    {
      "cell_type": "code",
      "source": [
        "e = model.layers[0]\n",
        "weights = e.get_weights()[0]\n",
        "print(weights.shape) # shape: (vocab_size, embedding_dim)"
      ],
      "metadata": {
        "colab": {
          "base_uri": "https://localhost:8080/"
        },
        "id": "f8pAwCJg-Ytd",
        "outputId": "11c33afe-fd5b-4fab-a412-017a509a24c0"
      },
      "execution_count": 223,
      "outputs": [
        {
          "output_type": "stream",
          "name": "stdout",
          "text": [
            "(10000, 16)\n"
          ]
        }
      ]
    },
    {
      "cell_type": "code",
      "source": [
        "import io\n",
        "\n",
        "out_v = io.open('vecs.tsv', 'w', encoding='utf-8')\n",
        "out_m = io.open('meta.tsv', 'w', encoding='utf-8')\n",
        "for word_num in range(1, vocab_size):\n",
        "  word = reverse_word_index[word_num]\n",
        "  embeddings = weights[word_num]\n",
        "  out_m.write(word + \"\\n\")\n",
        "  out_v.write('\\t'.join([str(x) for x in embeddings]) + \"\\n\")\n",
        "out_v.close()\n",
        "out_m.close()"
      ],
      "metadata": {
        "id": "5LG19wv1-cMI"
      },
      "execution_count": 224,
      "outputs": []
    },
    {
      "cell_type": "code",
      "source": [
        "try:\n",
        "  from google.colab import files\n",
        "except ImportError:\n",
        "  pass\n",
        "else:\n",
        "  files.download('vecs.tsv')\n",
        "  files.download('meta.tsv')"
      ],
      "metadata": {
        "colab": {
          "base_uri": "https://localhost:8080/",
          "height": 17
        },
        "id": "OFBZnx4a-d1Q",
        "outputId": "28235487-d64b-451b-83b6-6eb8d05bf33e"
      },
      "execution_count": 225,
      "outputs": [
        {
          "output_type": "display_data",
          "data": {
            "text/plain": [
              "<IPython.core.display.Javascript object>"
            ],
            "application/javascript": [
              "\n",
              "    async function download(id, filename, size) {\n",
              "      if (!google.colab.kernel.accessAllowed) {\n",
              "        return;\n",
              "      }\n",
              "      const div = document.createElement('div');\n",
              "      const label = document.createElement('label');\n",
              "      label.textContent = `Downloading \"${filename}\": `;\n",
              "      div.appendChild(label);\n",
              "      const progress = document.createElement('progress');\n",
              "      progress.max = size;\n",
              "      div.appendChild(progress);\n",
              "      document.body.appendChild(div);\n",
              "\n",
              "      const buffers = [];\n",
              "      let downloaded = 0;\n",
              "\n",
              "      const channel = await google.colab.kernel.comms.open(id);\n",
              "      // Send a message to notify the kernel that we're ready.\n",
              "      channel.send({})\n",
              "\n",
              "      for await (const message of channel.messages) {\n",
              "        // Send a message to notify the kernel that we're ready.\n",
              "        channel.send({})\n",
              "        if (message.buffers) {\n",
              "          for (const buffer of message.buffers) {\n",
              "            buffers.push(buffer);\n",
              "            downloaded += buffer.byteLength;\n",
              "            progress.value = downloaded;\n",
              "          }\n",
              "        }\n",
              "      }\n",
              "      const blob = new Blob(buffers, {type: 'application/binary'});\n",
              "      const a = document.createElement('a');\n",
              "      a.href = window.URL.createObjectURL(blob);\n",
              "      a.download = filename;\n",
              "      div.appendChild(a);\n",
              "      a.click();\n",
              "      div.remove();\n",
              "    }\n",
              "  "
            ]
          },
          "metadata": {}
        },
        {
          "output_type": "display_data",
          "data": {
            "text/plain": [
              "<IPython.core.display.Javascript object>"
            ],
            "application/javascript": [
              "download(\"download_664ed628-171b-4ae1-be06-cde49aeb8d56\", \"vecs.tsv\", 1814620)"
            ]
          },
          "metadata": {}
        },
        {
          "output_type": "display_data",
          "data": {
            "text/plain": [
              "<IPython.core.display.Javascript object>"
            ],
            "application/javascript": [
              "\n",
              "    async function download(id, filename, size) {\n",
              "      if (!google.colab.kernel.accessAllowed) {\n",
              "        return;\n",
              "      }\n",
              "      const div = document.createElement('div');\n",
              "      const label = document.createElement('label');\n",
              "      label.textContent = `Downloading \"${filename}\": `;\n",
              "      div.appendChild(label);\n",
              "      const progress = document.createElement('progress');\n",
              "      progress.max = size;\n",
              "      div.appendChild(progress);\n",
              "      document.body.appendChild(div);\n",
              "\n",
              "      const buffers = [];\n",
              "      let downloaded = 0;\n",
              "\n",
              "      const channel = await google.colab.kernel.comms.open(id);\n",
              "      // Send a message to notify the kernel that we're ready.\n",
              "      channel.send({})\n",
              "\n",
              "      for await (const message of channel.messages) {\n",
              "        // Send a message to notify the kernel that we're ready.\n",
              "        channel.send({})\n",
              "        if (message.buffers) {\n",
              "          for (const buffer of message.buffers) {\n",
              "            buffers.push(buffer);\n",
              "            downloaded += buffer.byteLength;\n",
              "            progress.value = downloaded;\n",
              "          }\n",
              "        }\n",
              "      }\n",
              "      const blob = new Blob(buffers, {type: 'application/binary'});\n",
              "      const a = document.createElement('a');\n",
              "      a.href = window.URL.createObjectURL(blob);\n",
              "      a.download = filename;\n",
              "      div.appendChild(a);\n",
              "      a.click();\n",
              "      div.remove();\n",
              "    }\n",
              "  "
            ]
          },
          "metadata": {}
        },
        {
          "output_type": "display_data",
          "data": {
            "text/plain": [
              "<IPython.core.display.Javascript object>"
            ],
            "application/javascript": [
              "download(\"download_fda99b03-6599-494c-a293-5eee236ac089\", \"meta.tsv\", 75974)"
            ]
          },
          "metadata": {}
        }
      ]
    },
    {
      "cell_type": "code",
      "source": [
        "sentence = [\"granny starting to fear spiders in the garden might be real\", \"game of thrones season finale showing this sunday night\"]\n",
        "sequences = tokenizer.texts_to_sequences(sentence)\n",
        "padded = pad_sequences(sequences, maxlen=max_length, padding=padding_type, truncating=trunc_type)\n",
        "print(model.predict(padded))"
      ],
      "metadata": {
        "colab": {
          "base_uri": "https://localhost:8080/"
        },
        "id": "8OK6cFKV-fMU",
        "outputId": "238a2d80-7852-42ec-f38a-323fa17f868e"
      },
      "execution_count": 226,
      "outputs": [
        {
          "output_type": "stream",
          "name": "stdout",
          "text": [
            "1/1 [==============================] - 0s 18ms/step\n",
            "[[8.9696527e-01]\n",
            " [8.3740446e-08]]\n"
          ]
        }
      ]
    },
    {
      "cell_type": "code",
      "source": [],
      "metadata": {
        "id": "islqL0hlF1JG"
      },
      "execution_count": null,
      "outputs": []
    }
  ]
}